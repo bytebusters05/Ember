{
 "cells": [
  {
   "cell_type": "code",
   "execution_count": 30,
   "id": "3b282b8e",
   "metadata": {},
   "outputs": [
    {
     "name": "stderr",
     "output_type": "stream",
     "text": [
      "Device set to use cpu\n"
     ]
    },
    {
     "name": "stdout",
     "output_type": "stream",
     "text": [
      "Text Emotion: anger\n",
      "Final Detected Emotion: anger\n"
     ]
    }
   ],
   "source": [
    "import numpy as np\n",
    "import sounddevice as sd\n",
    "import librosa\n",
    "import torch\n",
    "from transformers import pipeline\n",
    "\n",
    "# -------------------------\n",
    "# 1. Text-based emotion using Hugging Face\n",
    "# -------------------------\n",
    "text_model = pipeline(\n",
    "    \"text-classification\",\n",
    "    model=\"j-hartmann/emotion-english-distilroberta-base\",\n",
    "    framework=\"pt\"  # use PyTorch\n",
    ")\n",
    "\n",
    "def get_text_emotion(text):\n",
    "    if not text.strip():\n",
    "        return None\n",
    "    result = text_model(text)\n",
    "    return result[0]['label']\n",
    "\n",
    "# -------------------------\n",
    "# 2. Audio-based emotion using pitch/energy heuristic\n",
    "# -------------------------\n",
    "def get_audio_emotion(duration=3, sr=16000):\n",
    "    print(\"Recording audio...\")\n",
    "    audio = sd.rec(int(duration*sr), samplerate=sr, channels=1)\n",
    "    sd.wait()\n",
    "    y = audio.flatten()\n",
    "    \n",
    "    # Extract pitch and energy\n",
    "    try:\n",
    "        pitch = librosa.yin(y, fmin=50, fmax=300).mean()\n",
    "    except:\n",
    "        pitch = 0\n",
    "    energy = (y**2).mean()\n",
    "    \n",
    "    # Simple heuristic rules\n",
    "    if pitch > 180 and energy > 0.01:\n",
    "        return \"happy\"\n",
    "    elif pitch < 100 and energy < 0.005:\n",
    "        return \"sad\"\n",
    "    else:\n",
    "        return \"neutral\"\n",
    "\n",
    "# -------------------------\n",
    "# 3. Fuse text + audio emotions\n",
    "# -------------------------\n",
    "def fuse_emotions(text_emotion, audio_emotion):\n",
    "    if text_emotion is None:\n",
    "        return audio_emotion\n",
    "    if audio_emotion is None:\n",
    "        return text_emotion\n",
    "    return audio_emotion if text_emotion != audio_emotion else text_emotion\n",
    "\n",
    "# -------------------------\n",
    "# 4. Main program\n",
    "# -------------------------\n",
    "def main():\n",
    "    mode = input(\"Choose input mode (text/audio/both): \").strip().lower()\n",
    "    \n",
    "    text_emotion = None\n",
    "    audio_emotion = None\n",
    "    \n",
    "    if mode in [\"text\", \"both\"]:\n",
    "        text_input = input(\"Enter text: \")\n",
    "        text_emotion = get_text_emotion(text_input)\n",
    "        print(f\"Text Emotion: {text_emotion}\")\n",
    "    \n",
    "    if mode in [\"audio\", \"both\"]:\n",
    "        audio_emotion = get_audio_emotion()\n",
    "        print(f\"Audio Emotion: {audio_emotion}\")\n",
    "    \n",
    "    final_emotion = fuse_emotions(text_emotion, audio_emotion)\n",
    "    print(f\"Final Detected Emotion: {final_emotion}\")\n",
    "\n",
    "if __name__ == \"__main__\":\n",
    "    main()\n"
   ]
  }
 ],
 "metadata": {
  "kernelspec": {
   "display_name": "Python 3",
   "language": "python",
   "name": "python3"
  },
  "language_info": {
   "codemirror_mode": {
    "name": "ipython",
    "version": 3
   },
   "file_extension": ".py",
   "mimetype": "text/x-python",
   "name": "python",
   "nbconvert_exporter": "python",
   "pygments_lexer": "ipython3",
   "version": "3.11.9"
  }
 },
 "nbformat": 4,
 "nbformat_minor": 5
}
